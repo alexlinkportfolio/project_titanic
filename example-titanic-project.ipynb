{
 "cells": [
  {
   "cell_type": "code",
   "execution_count": 1,
   "id": "19076038",
   "metadata": {
    "_cell_guid": "b1076dfc-b9ad-4769-8c92-a6c4dae69d19",
    "_uuid": "8f2839f25d086af736a60e9eeb907d3b93b6e0e5",
    "execution": {
     "iopub.execute_input": "2025-05-07T17:03:32.534450Z",
     "iopub.status.busy": "2025-05-07T17:03:32.533672Z",
     "iopub.status.idle": "2025-05-07T17:03:38.834635Z",
     "shell.execute_reply": "2025-05-07T17:03:38.833519Z"
    },
    "papermill": {
     "duration": 6.307442,
     "end_time": "2025-05-07T17:03:38.836536",
     "exception": false,
     "start_time": "2025-05-07T17:03:32.529094",
     "status": "completed"
    },
    "tags": []
   },
   "outputs": [
    {
     "name": "stdout",
     "output_type": "stream",
     "text": [
      "/kaggle/input/titanic/train.csv\n",
      "/kaggle/input/titanic/test.csv\n",
      "/kaggle/input/titanic/gender_submission.csv\n",
      "Cloning into 'project_titanic'...\r\n",
      "remote: Enumerating objects: 3, done.\u001b[K\r\n",
      "remote: Counting objects: 100% (3/3), done.\u001b[K\r\n",
      "remote: Compressing objects: 100% (2/2), done.\u001b[K\r\n",
      "remote: Total 3 (delta 0), reused 0 (delta 0), pack-reused 0 (from 0)\u001b[K\r\n",
      "Receiving objects: 100% (3/3), done.\r\n",
      "/kaggle/working/project_titanic\n",
      "Already on 'main'\r\n",
      "Your branch is up to date with 'origin/main'.\r\n",
      "On branch main\r\n",
      "Your branch is up to date with 'origin/main'.\r\n",
      "\r\n",
      "nothing to commit, working tree clean\r\n",
      "total 16\r\n",
      "drwxr-xr-x 3 root root 4096 May  7 17:03 \u001b[0m\u001b[01;34m.\u001b[0m/\r\n",
      "drwxr-xr-x 3 root root 4096 May  7 17:03 \u001b[01;34m..\u001b[0m/\r\n",
      "drwxr-xr-x 8 root root 4096 May  7 17:03 \u001b[01;34m.git\u001b[0m/\r\n",
      "-rw-r--r-- 1 root root   60 May  7 17:03 README.md\r\n",
      "user.email=alex.link@utexas.edu\r\n",
      "user.name=Alex Link\r\n"
     ]
    }
   ],
   "source": [
    "# You can write up to 20GB to the current directory (/kaggle/working/) that gets preserved as output when you create a version using \"Save & Run All\" \n",
    "# You can also write temporary files to /kaggle/temp/, but they won't be saved outside of the current session\n",
    "\n",
    "import os\n",
    "import numpy as np # linear algebra\n",
    "import pandas as pd # data processing, CSV file I/O (e.g. pd.read_csv)\n",
    "from sklearn.ensemble import RandomForestClassifier # classifier\n",
    "from sklearn.model_selection import GridSearchCV # hyperparam tuning for classifier\n",
    "from kaggle_secrets import UserSecretsClient # access git\n",
    "\n",
    "for dirname, _, filenames in os.walk('/kaggle/input'):\n",
    "    for filename in filenames:\n",
    "        print(os.path.join(dirname, filename))\n",
    "\n",
    "\n",
    "user_secrets = UserSecretsClient()\n",
    "secret_value_0 = user_secrets.get_secret(\"github_access_token_for_kaggle\")\n",
    "\n",
    "os.environ['USER'] = 'alexlinkportfolio'\n",
    "os.environ['REPO'] = 'project_titanic'\n",
    "os.environ['TOKEN'] = secret_value_0\n",
    "\n",
    "\n",
    "!git clone https://${TOKEN}@github.com/${USER}/${REPO}.git\n",
    "\n",
    "%cd ./{os.environ['REPO']}\n",
    "!git checkout main\n",
    "!git status\n",
    "\n",
    "%ls -al\n",
    "\n",
    "!git config --global user.email \"alex.link@utexas.edu\"\n",
    "!git config --global user.name \"Alex Link\"\n",
    "!git config --global --list"
   ]
  },
  {
   "cell_type": "code",
   "execution_count": 2,
   "id": "e9bb0b2b",
   "metadata": {
    "execution": {
     "iopub.execute_input": "2025-05-07T17:03:38.844960Z",
     "iopub.status.busy": "2025-05-07T17:03:38.844090Z",
     "iopub.status.idle": "2025-05-07T17:03:38.881555Z",
     "shell.execute_reply": "2025-05-07T17:03:38.880502Z"
    },
    "papermill": {
     "duration": 0.043301,
     "end_time": "2025-05-07T17:03:38.883258",
     "exception": false,
     "start_time": "2025-05-07T17:03:38.839957",
     "status": "completed"
    },
    "tags": []
   },
   "outputs": [],
   "source": [
    "# import data\n",
    "train_data = pd.read_csv(\"/kaggle/input/titanic/train.csv\")\n",
    "test_data = pd.read_csv(\"/kaggle/input/titanic/test.csv\")"
   ]
  },
  {
   "cell_type": "code",
   "execution_count": 3,
   "id": "7d95961e",
   "metadata": {
    "execution": {
     "iopub.execute_input": "2025-05-07T17:03:38.890866Z",
     "iopub.status.busy": "2025-05-07T17:03:38.890077Z",
     "iopub.status.idle": "2025-05-07T17:03:38.928721Z",
     "shell.execute_reply": "2025-05-07T17:03:38.927764Z"
    },
    "papermill": {
     "duration": 0.044538,
     "end_time": "2025-05-07T17:03:38.930873",
     "exception": false,
     "start_time": "2025-05-07T17:03:38.886335",
     "status": "completed"
    },
    "tags": []
   },
   "outputs": [],
   "source": [
    "\"\"\"\n",
    "data manipulation /  feature engineering\n",
    "\n",
    "current:\n",
    "\n",
    "future work:\n",
    "    - cabins numbers are unique and should be converted to location groups\n",
    "\"\"\"\n",
    "\n",
    "# convert datatype of particular columns to categorical\n",
    "train_data.Pclass = train_data.Pclass.astype('category')\n",
    "train_data.Sex = train_data.Sex.astype('category')\n",
    "train_data.Embarked = train_data.Embarked.astype('category')\n",
    "\n",
    "test_data.Pclass = test_data.Pclass.astype('category')\n",
    "test_data.Sex = test_data.Sex.astype('category')\n",
    "test_data.Embarked = test_data.Embarked.astype('category')\n",
    "\n",
    "# convert certain numerical data to categorical\n",
    "def conv_to_buckets(data):\n",
    "    min_data = min(data)\n",
    "    max_data = max(data)\n",
    "    med_data = np.nanmedian(data)\n",
    "    bins = [min_data, min_data+(med_data-min_data)/2, med_data,med_data+(max_data-med_data)/2, max_data]\n",
    "    labels = [\"low\",\"med_low\",\"med_high\",\"high\"]\n",
    "    return bins, labels\n",
    "\n",
    "age_bins, age_labels = conv_to_buckets(train_data.Age)\n",
    "fare_bins, fare_labels = conv_to_buckets(train_data.Fare)\n",
    "\n",
    "train_data.Age = pd.cut(train_data.Age, bins=age_bins, labels=age_labels, right=False)\n",
    "train_data.Fare = pd.cut(train_data.Fare, bins=fare_bins, labels=fare_labels, right=False)\n",
    "\n",
    "test_data.Age = pd.cut(test_data.Age, bins=age_bins, labels=age_labels, right=False)\n",
    "test_data.Fare = pd.cut(test_data.Fare, bins=fare_bins, labels=fare_labels, right=False)"
   ]
  },
  {
   "cell_type": "code",
   "execution_count": 4,
   "id": "2d04cb46",
   "metadata": {
    "execution": {
     "iopub.execute_input": "2025-05-07T17:03:38.938281Z",
     "iopub.status.busy": "2025-05-07T17:03:38.937920Z",
     "iopub.status.idle": "2025-05-07T17:03:38.943442Z",
     "shell.execute_reply": "2025-05-07T17:03:38.942626Z"
    },
    "papermill": {
     "duration": 0.010771,
     "end_time": "2025-05-07T17:03:38.944852",
     "exception": false,
     "start_time": "2025-05-07T17:03:38.934081",
     "status": "completed"
    },
    "tags": []
   },
   "outputs": [],
   "source": [
    "# Utility function to report best scores\n",
    "def report(results, n_top=3):\n",
    "    for i in range(1, n_top + 1):\n",
    "        candidates = np.flatnonzero(results[\"rank_test_score\"] == i)\n",
    "        for candidate in candidates:\n",
    "            print(\"Model with rank: {0}\".format(i))\n",
    "            print(\n",
    "                \"Mean validation score: {0:.3f} (std: {1:.3f})\".format(\n",
    "                    results[\"mean_test_score\"][candidate],\n",
    "                    results[\"std_test_score\"][candidate],\n",
    "                )\n",
    "            )\n",
    "            print(\"Parameters: {0}\".format(results[\"params\"][candidate]))\n",
    "            print(\"\")"
   ]
  },
  {
   "cell_type": "code",
   "execution_count": 5,
   "id": "444773d0",
   "metadata": {
    "execution": {
     "iopub.execute_input": "2025-05-07T17:03:38.951947Z",
     "iopub.status.busy": "2025-05-07T17:03:38.951642Z",
     "iopub.status.idle": "2025-05-07T17:03:38.956051Z",
     "shell.execute_reply": "2025-05-07T17:03:38.955333Z"
    },
    "papermill": {
     "duration": 0.009446,
     "end_time": "2025-05-07T17:03:38.957453",
     "exception": false,
     "start_time": "2025-05-07T17:03:38.948007",
     "status": "completed"
    },
    "tags": []
   },
   "outputs": [],
   "source": [
    "# Hyperparameter Tuning\n",
    "\n",
    "# # define param grid\n",
    "# param_grid = {\n",
    "#     \"n_estimators\":[25,50,75,100,125,150, 175,200],\n",
    "#     \"max_depth\":[5,10,15,20]\n",
    "# }\n",
    "\n",
    "# # instantiate rf model\n",
    "# model = RandomForestClassifier(\n",
    "#     n_estimators=100, # why 100?\n",
    "#     max_depth=5,      # why 5?\n",
    "#     random_state=1)\n",
    "\n",
    "\n",
    "# # outcome\n",
    "# target = train_data[\"Survived\"]\n",
    "\n",
    "# # list features of interest\n",
    "# features = [\"Pclass\", \"Sex\",\"Embarked\",\"Age\",\"SibSp\", \"Parch\", \"Fare\"]\n",
    "\n",
    "# # create 1-hot predictor encoding for train and test data\n",
    "# train_predictors = pd.get_dummies(train_data[features])\n",
    "# test_predictors = pd.get_dummies(test_data[features])\n",
    "\n",
    "\n",
    "\n",
    "# grid_search = GridSearchCV(model, param_grid=param_grid)\n",
    "# grid_search.fit(train_predictors, target)\n",
    "\n",
    "\n",
    "# report(grid_search.cv_results_)"
   ]
  },
  {
   "cell_type": "code",
   "execution_count": 6,
   "id": "035d1350",
   "metadata": {
    "execution": {
     "iopub.execute_input": "2025-05-07T17:03:38.964367Z",
     "iopub.status.busy": "2025-05-07T17:03:38.964072Z",
     "iopub.status.idle": "2025-05-07T17:03:39.284061Z",
     "shell.execute_reply": "2025-05-07T17:03:39.283066Z"
    },
    "papermill": {
     "duration": 0.32554,
     "end_time": "2025-05-07T17:03:39.285956",
     "exception": false,
     "start_time": "2025-05-07T17:03:38.960416",
     "status": "completed"
    },
    "tags": []
   },
   "outputs": [
    {
     "name": "stdout",
     "output_type": "stream",
     "text": [
      "Your submission was successfully saved!\n"
     ]
    }
   ],
   "source": [
    "# outcome\n",
    "target = train_data[\"Survived\"]\n",
    "\n",
    "# list features of interest\n",
    "features = [\"Pclass\", \"Sex\",\"Embarked\",\"Age\",\"SibSp\", \"Parch\", \"Fare\"]\n",
    "\n",
    "# create 1-hot predictor encoding for train and test data\n",
    "train_predictors = pd.get_dummies(train_data[features])\n",
    "test_predictors = pd.get_dummies(test_data[features])\n",
    "\n",
    "# instantiate rf model\n",
    "model = RandomForestClassifier(\n",
    "    n_estimators=175, # why 175: best mean acccuracy w/ grid search cv\n",
    "    max_depth=5,      # why 5: best mean acccuracy w/ grid search cv\n",
    "    random_state=1)\n",
    "\n",
    "# fit model using training data\n",
    "model.fit(train_predictors, target)\n",
    "\n",
    "# predict outcome of test data using fitted model\n",
    "predictions = model.predict(test_predictors)\n",
    "\n",
    "# package for output\n",
    "output = pd.DataFrame({'PassengerId': test_data.PassengerId,\n",
    "                      'Survived': predictions})\n",
    "\n",
    "# send to csv\n",
    "output.to_csv('submission.csv', index=False)\n",
    "print(\"Your submission was successfully saved!\")"
   ]
  },
  {
   "cell_type": "code",
   "execution_count": 7,
   "id": "4974d9b4",
   "metadata": {
    "execution": {
     "iopub.execute_input": "2025-05-07T17:03:39.293431Z",
     "iopub.status.busy": "2025-05-07T17:03:39.293134Z",
     "iopub.status.idle": "2025-05-07T17:03:39.297578Z",
     "shell.execute_reply": "2025-05-07T17:03:39.296732Z"
    },
    "papermill": {
     "duration": 0.009576,
     "end_time": "2025-05-07T17:03:39.298957",
     "exception": false,
     "start_time": "2025-05-07T17:03:39.289381",
     "status": "completed"
    },
    "tags": []
   },
   "outputs": [],
   "source": [
    "# \"\"\"\n",
    "# cat: Pclass, Sex, Cabin, Embarked\n",
    "# num: Age, SibSp, Parch, Fare\n",
    "\n",
    "# \"\"\"\n",
    "\n",
    "# # outcome\n",
    "# target = train_data[\"Survived\"]\n",
    "\n",
    "# # list features of interest\n",
    "# features = [\"Pclass\", \"Sex\",\"Embarked\",\"Age\",\"SibSp\", \"Parch\", \"Fare\"]\n",
    "\n",
    "# # create 1-hot predictor encoding for train and test data\n",
    "# train_predictors = pd.get_dummies(train_data[features])\n",
    "# test_predictors = pd.get_dummies(test_data[features])\n",
    "\n",
    "# # instantiate rf model\n",
    "# model = RandomForestClassifier(\n",
    "#     n_estimators=100, # why 100?\n",
    "#     max_depth=5,      # why 5?\n",
    "#     random_state=1)\n",
    "\n",
    "# # fit model using training data\n",
    "# model.fit(train_predictors, target)\n",
    "\n",
    "# # predict outcome of test data using fitted model\n",
    "# predictions = model.predict(test_predictors)"
   ]
  },
  {
   "cell_type": "code",
   "execution_count": 8,
   "id": "9176ee6e",
   "metadata": {
    "execution": {
     "iopub.execute_input": "2025-05-07T17:03:39.307322Z",
     "iopub.status.busy": "2025-05-07T17:03:39.306961Z",
     "iopub.status.idle": "2025-05-07T17:03:39.314175Z",
     "shell.execute_reply": "2025-05-07T17:03:39.313333Z"
    },
    "papermill": {
     "duration": 0.013323,
     "end_time": "2025-05-07T17:03:39.315489",
     "exception": false,
     "start_time": "2025-05-07T17:03:39.302166",
     "status": "completed"
    },
    "tags": []
   },
   "outputs": [
    {
     "name": "stdout",
     "output_type": "stream",
     "text": [
      "Your submission was successfully saved!\n"
     ]
    }
   ],
   "source": [
    "# package for output\n",
    "output = pd.DataFrame({'PassengerId': test_data.PassengerId,\n",
    "                      'Survived': predictions})\n",
    "\n",
    "# send to csv\n",
    "output.to_csv('submission.csv', index=False)\n",
    "print(\"Your submission was successfully saved!\")"
   ]
  }
 ],
 "metadata": {
  "kaggle": {
   "accelerator": "none",
   "dataSources": [
    {
     "databundleVersionId": 26502,
     "sourceId": 3136,
     "sourceType": "competition"
    }
   ],
   "dockerImageVersionId": 31012,
   "isGpuEnabled": false,
   "isInternetEnabled": true,
   "language": "python",
   "sourceType": "notebook"
  },
  "kernelspec": {
   "display_name": "Python 3",
   "language": "python",
   "name": "python3"
  },
  "language_info": {
   "codemirror_mode": {
    "name": "ipython",
    "version": 3
   },
   "file_extension": ".py",
   "mimetype": "text/x-python",
   "name": "python",
   "nbconvert_exporter": "python",
   "pygments_lexer": "ipython3",
   "version": "3.11.11"
  },
  "papermill": {
   "default_parameters": {},
   "duration": 12.437741,
   "end_time": "2025-05-07T17:03:39.937204",
   "environment_variables": {},
   "exception": null,
   "input_path": "__notebook__.ipynb",
   "output_path": "__notebook__.ipynb",
   "parameters": {},
   "start_time": "2025-05-07T17:03:27.499463",
   "version": "2.6.0"
  }
 },
 "nbformat": 4,
 "nbformat_minor": 5
}
