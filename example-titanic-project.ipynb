{
 "cells": [
  {
   "cell_type": "code",
   "execution_count": 1,
   "id": "ccbeeb09",
   "metadata": {
    "_cell_guid": "b1076dfc-b9ad-4769-8c92-a6c4dae69d19",
    "_uuid": "8f2839f25d086af736a60e9eeb907d3b93b6e0e5",
    "execution": {
     "iopub.execute_input": "2025-05-08T20:20:08.849895Z",
     "iopub.status.busy": "2025-05-08T20:20:08.849465Z",
     "iopub.status.idle": "2025-05-08T20:20:14.936067Z",
     "shell.execute_reply": "2025-05-08T20:20:14.934681Z"
    },
    "papermill": {
     "duration": 6.092704,
     "end_time": "2025-05-08T20:20:14.937983",
     "exception": false,
     "start_time": "2025-05-08T20:20:08.845279",
     "status": "completed"
    },
    "tags": []
   },
   "outputs": [
    {
     "name": "stdout",
     "output_type": "stream",
     "text": [
      "/kaggle/input/titanic/train.csv\n",
      "/kaggle/input/titanic/test.csv\n",
      "/kaggle/input/titanic/gender_submission.csv\n",
      "Cloning into 'project_titanic'...\r\n",
      "remote: Enumerating objects: 6, done.\u001b[K\r\n",
      "remote: Counting objects: 100% (6/6), done.\u001b[K\r\n",
      "remote: Compressing objects: 100% (5/5), done.\u001b[K\r\n",
      "remote: Total 6 (delta 0), reused 0 (delta 0), pack-reused 0 (from 0)\u001b[K\r\n",
      "Receiving objects: 100% (6/6), 4.79 KiB | 1.20 MiB/s, done.\r\n",
      "/kaggle/working/project_titanic\n",
      "Already on 'main'\r\n",
      "Your branch is up to date with 'origin/main'.\r\n",
      "On branch main\r\n",
      "Your branch is up to date with 'origin/main'.\r\n",
      "\r\n",
      "nothing to commit, working tree clean\r\n",
      "total 32\r\n",
      "drwxr-xr-x 3 root root  4096 May  8 20:20 \u001b[0m\u001b[01;34m.\u001b[0m/\r\n",
      "drwxr-xr-x 3 root root  4096 May  8 20:20 \u001b[01;34m..\u001b[0m/\r\n",
      "-rw-r--r-- 1 root root 15376 May  8 20:20 example-titanic-project.ipynb\r\n",
      "drwxr-xr-x 8 root root  4096 May  8 20:20 \u001b[01;34m.git\u001b[0m/\r\n",
      "-rw-r--r-- 1 root root    60 May  8 20:20 README.md\r\n",
      "user.email=alex.link@utexas.edu\r\n",
      "user.name=Alex Link\r\n"
     ]
    }
   ],
   "source": [
    "# You can write up to 20GB to the current directory (/kaggle/working/) that gets preserved as output when you create a version using \"Save & Run All\" \n",
    "# You can also write temporary files to /kaggle/temp/, but they won't be saved outside of the current session\n",
    "\n",
    "import os\n",
    "import numpy as np # linear algebra\n",
    "import pandas as pd # data processing, CSV file I/O (e.g. pd.read_csv)\n",
    "from sklearn.ensemble import RandomForestClassifier # classifier\n",
    "from sklearn.model_selection import GridSearchCV, RandomizedSearchCV # hyperparam tuning for classifier\n",
    "# import scipy.stats as stats\n",
    "from kaggle_secrets import UserSecretsClient # access git\n",
    "\n",
    "for dirname, _, filenames in os.walk('/kaggle/input'):\n",
    "    for filename in filenames:\n",
    "        print(os.path.join(dirname, filename))\n",
    "\n",
    "\n",
    "user_secrets = UserSecretsClient()\n",
    "secret_value_0 = user_secrets.get_secret(\"github_access_token_for_kaggle\")\n",
    "\n",
    "os.environ['USER'] = 'alexlinkportfolio'\n",
    "os.environ['REPO'] = 'project_titanic'\n",
    "os.environ['TOKEN'] = secret_value_0\n",
    "\n",
    "\n",
    "!git clone https://${TOKEN}@github.com/${USER}/${REPO}.git\n",
    "\n",
    "%cd ./{os.environ['REPO']}\n",
    "!git checkout main\n",
    "!git status\n",
    "\n",
    "%ls -al\n",
    "\n",
    "!git config --global user.email \"alex.link@utexas.edu\"\n",
    "!git config --global user.name \"Alex Link\"\n",
    "!git config --global --list"
   ]
  },
  {
   "cell_type": "code",
   "execution_count": 2,
   "id": "55b372be",
   "metadata": {
    "execution": {
     "iopub.execute_input": "2025-05-08T20:20:14.946301Z",
     "iopub.status.busy": "2025-05-08T20:20:14.945515Z",
     "iopub.status.idle": "2025-05-08T20:20:14.984677Z",
     "shell.execute_reply": "2025-05-08T20:20:14.983669Z"
    },
    "papermill": {
     "duration": 0.044858,
     "end_time": "2025-05-08T20:20:14.986377",
     "exception": false,
     "start_time": "2025-05-08T20:20:14.941519",
     "status": "completed"
    },
    "tags": []
   },
   "outputs": [],
   "source": [
    "# import data\n",
    "train_data = pd.read_csv(\"/kaggle/input/titanic/train.csv\")\n",
    "test_data = pd.read_csv(\"/kaggle/input/titanic/test.csv\")"
   ]
  },
  {
   "cell_type": "code",
   "execution_count": 3,
   "id": "18831e10",
   "metadata": {
    "execution": {
     "iopub.execute_input": "2025-05-08T20:20:14.993526Z",
     "iopub.status.busy": "2025-05-08T20:20:14.993193Z",
     "iopub.status.idle": "2025-05-08T20:20:15.040161Z",
     "shell.execute_reply": "2025-05-08T20:20:15.038930Z"
    },
    "papermill": {
     "duration": 0.052974,
     "end_time": "2025-05-08T20:20:15.042276",
     "exception": false,
     "start_time": "2025-05-08T20:20:14.989302",
     "status": "completed"
    },
    "tags": []
   },
   "outputs": [],
   "source": [
    "\"\"\"\n",
    "data manipulation /  feature engineering\n",
    "\n",
    "current:\n",
    "\n",
    "future work:\n",
    "    - cabins numbers are unique and should be converted to location groups\n",
    "\"\"\"\n",
    "\n",
    "# convert datatype of particular columns to categorical\n",
    "train_data.Pclass = train_data.Pclass.astype('category')\n",
    "train_data.Sex = train_data.Sex.astype('category')\n",
    "train_data.Embarked = train_data.Embarked.astype('category')\n",
    "\n",
    "test_data.Pclass = test_data.Pclass.astype('category')\n",
    "test_data.Sex = test_data.Sex.astype('category')\n",
    "test_data.Embarked = test_data.Embarked.astype('category')\n",
    "\n",
    "# convert certain numerical data to categorical\n",
    "def conv_to_buckets(data):\n",
    "    min_data = min(data)\n",
    "    max_data = max(data)\n",
    "    med_data = np.nanmedian(data)\n",
    "    bins = [min_data, min_data+(med_data-min_data)/2, med_data,med_data+(max_data-med_data)/2, max_data]\n",
    "    labels = [\"low\",\"med_low\",\"med_high\",\"high\"]\n",
    "    return bins, labels\n",
    "\n",
    "age_bins, age_labels = conv_to_buckets(train_data.Age)\n",
    "fare_bins, fare_labels = conv_to_buckets(train_data.Fare)\n",
    "\n",
    "train_data.Age = pd.cut(train_data.Age, bins=age_bins, labels=age_labels, right=False)\n",
    "train_data.Fare = pd.cut(train_data.Fare, bins=fare_bins, labels=fare_labels, right=False)\n",
    "\n",
    "test_data.Age = pd.cut(test_data.Age, bins=age_bins, labels=age_labels, right=False)\n",
    "test_data.Fare = pd.cut(test_data.Fare, bins=fare_bins, labels=fare_labels, right=False)"
   ]
  },
  {
   "cell_type": "code",
   "execution_count": 4,
   "id": "a7ee0b9e",
   "metadata": {
    "execution": {
     "iopub.execute_input": "2025-05-08T20:20:15.050193Z",
     "iopub.status.busy": "2025-05-08T20:20:15.049840Z",
     "iopub.status.idle": "2025-05-08T20:20:15.058731Z",
     "shell.execute_reply": "2025-05-08T20:20:15.057664Z"
    },
    "papermill": {
     "duration": 0.01539,
     "end_time": "2025-05-08T20:20:15.060604",
     "exception": false,
     "start_time": "2025-05-08T20:20:15.045214",
     "status": "completed"
    },
    "tags": []
   },
   "outputs": [],
   "source": [
    "# Utility function to report best scores\n",
    "def report(results, n_top=3):\n",
    "    for i in range(1, n_top + 1):\n",
    "        candidates = np.flatnonzero(results[\"rank_test_score\"] == i)\n",
    "        for candidate in candidates:\n",
    "            print(\"Model with rank: {0}\".format(i))\n",
    "            print(\n",
    "                \"Mean validation score: {0:.3f} (std: {1:.3f})\".format(\n",
    "                    results[\"mean_test_score\"][candidate],\n",
    "                    results[\"std_test_score\"][candidate],\n",
    "                )\n",
    "            )\n",
    "            print(\"Parameters: {0}\".format(results[\"params\"][candidate]))\n",
    "            print(\"\")\n",
    "\n",
    "def run_grid_search_cv (model, train_predictors, target):\n",
    "    # define param grid\n",
    "    param_grid = {\n",
    "        \"n_estimators\":[25,50,75,100,125,150,175,200],\n",
    "        \"max_depth\":[5,10,15,20]\n",
    "    }\n",
    "    \n",
    "    # instantiate grid search object\n",
    "    grid_search = GridSearchCV(model, param_grid = param_grid, return_train_score = True)\n",
    "\n",
    "    # perform grid search\n",
    "    grid_search.fit(train_predictors, target)\n",
    "\n",
    "    # extract parameter values with highest average score\n",
    "    best_max_depth = grid_search.best_params_[\"max_depth\"]\n",
    "    best_n_estimators = grid_search.best_params_[\"n_estimators\"]\n",
    "    \n",
    "    return grid_search, best_max_depth, best_n_estimators\n",
    "\n",
    "def run_rand_search_cv(model, n_iter, train_predictors, target):\n",
    "    # define param distributions\n",
    "    param_dist = {\n",
    "        \"n_estimators\": np.random.randint(low = 25, high = 200, size = n_iter),\n",
    "        \"max_depth\": np.random.randint(low = 5, high = 20, size = n_iter),\n",
    "    }\n",
    "\n",
    "    # run randomized search\n",
    "    random_search = RandomizedSearchCV(model, param_distributions = param_dist, n_iter = n_iter)\n",
    "    random_search.fit(train_predictors, target)\n",
    "\n",
    "    # extract parameter values with highest average score\n",
    "    best_max_depth = random_search.best_params_[\"max_depth\"]\n",
    "    best_n_estimators = random_search.best_params_[\"n_estimators\"]\n",
    "\n",
    "    return random_search, best_max_depth, best_n_estimators"
   ]
  },
  {
   "cell_type": "code",
   "execution_count": 5,
   "id": "3a598a46",
   "metadata": {
    "execution": {
     "iopub.execute_input": "2025-05-08T20:20:15.068706Z",
     "iopub.status.busy": "2025-05-08T20:20:15.068340Z",
     "iopub.status.idle": "2025-05-08T20:20:43.333073Z",
     "shell.execute_reply": "2025-05-08T20:20:43.331969Z"
    },
    "papermill": {
     "duration": 28.270279,
     "end_time": "2025-05-08T20:20:43.334611",
     "exception": false,
     "start_time": "2025-05-08T20:20:15.064332",
     "status": "completed"
    },
    "tags": []
   },
   "outputs": [
    {
     "name": "stdout",
     "output_type": "stream",
     "text": [
      "Model with rank: 1\n",
      "Mean validation score: 0.822 (std: 0.014)\n",
      "Parameters: {'n_estimators': 147, 'max_depth': 7}\n",
      "\n",
      "Model with rank: 2\n",
      "Mean validation score: 0.822 (std: 0.013)\n",
      "Parameters: {'n_estimators': 127, 'max_depth': 5}\n",
      "\n",
      "Model with rank: 3\n",
      "Mean validation score: 0.820 (std: 0.013)\n",
      "Parameters: {'n_estimators': 133, 'max_depth': 7}\n",
      "\n"
     ]
    }
   ],
   "source": [
    "\"\"\"\n",
    "Hyperparameter Tuning\n",
    "\n",
    "Default: n_estimators 100, max_depth 5\n",
    "\n",
    "Gridsearch w/ 5-fold cross validation used to find better parameter combination\n",
    "\n",
    "Result: Default performed best on validation set\n",
    "\n",
    "\"\"\"\n",
    "\n",
    "# outcome\n",
    "target = train_data[\"Survived\"]\n",
    "\n",
    "# list features of interest\n",
    "features = [\"Pclass\", \"Sex\",\"Embarked\",\"Age\",\"SibSp\", \"Parch\", \"Fare\"]\n",
    "\n",
    "# create 1-hot predictor encoding for train and test data\n",
    "train_predictors = pd.get_dummies(train_data[features])\n",
    "test_predictors = pd.get_dummies(test_data[features])\n",
    "\n",
    "# instantiate rf model, default parameters\n",
    "model = RandomForestClassifier(n_estimators = 100, max_depth = 5, random_state = 1)\n",
    "\n",
    "# # run grid search\n",
    "# grid_search, gs_best_max_depth, gs_best_n_estimators = run_grid_search_cv(model, train_predictors, target)\n",
    "\n",
    "# # print top 3 results\n",
    "# report(grid_search.cv_results_)\n",
    "\n",
    "# run grid search\n",
    "random_search, rnd_best_max_depth, rnd_best_n_estimators = run_rand_search_cv(model, 30, train_predictors, target)\n",
    "\n",
    "# print top 3 results\n",
    "report(random_search.cv_results_)"
   ]
  },
  {
   "cell_type": "code",
   "execution_count": 6,
   "id": "54720e2c",
   "metadata": {
    "execution": {
     "iopub.execute_input": "2025-05-08T20:20:43.341454Z",
     "iopub.status.busy": "2025-05-08T20:20:43.341129Z",
     "iopub.status.idle": "2025-05-08T20:20:43.602514Z",
     "shell.execute_reply": "2025-05-08T20:20:43.601488Z"
    },
    "papermill": {
     "duration": 0.266814,
     "end_time": "2025-05-08T20:20:43.604320",
     "exception": false,
     "start_time": "2025-05-08T20:20:43.337506",
     "status": "completed"
    },
    "tags": []
   },
   "outputs": [],
   "source": [
    "# outcome\n",
    "target = train_data[\"Survived\"]\n",
    "\n",
    "# list features of interest\n",
    "features = [\"Pclass\", \"Sex\",\"Embarked\",\"Age\",\"SibSp\", \"Parch\", \"Fare\"]\n",
    "\n",
    "# create 1-hot predictor encoding for train and test data\n",
    "train_predictors = pd.get_dummies(train_data[features])\n",
    "test_predictors = pd.get_dummies(test_data[features])\n",
    "\n",
    "# # instantiate rf model\n",
    "# model = RandomForestClassifier(\n",
    "#     n_estimators=175, # why 175: best mean acccuracy w/ grid search cv\n",
    "#     max_depth=5,      # why 5: best mean acccuracy w/ grid search cv\n",
    "#     random_state=1)\n",
    "\n",
    "# instantiate rf model\n",
    "model = RandomForestClassifier(\n",
    "    n_estimators=rnd_best_n_estimators,\n",
    "    max_depth=rnd_best_max_depth,\n",
    "    random_state=1)\n",
    "\n",
    "# fit model using training data\n",
    "model.fit(train_predictors, target)\n",
    "\n",
    "# predict outcome of test data using fitted model\n",
    "predictions = model.predict(test_predictors)"
   ]
  },
  {
   "cell_type": "code",
   "execution_count": 7,
   "id": "e4b85197",
   "metadata": {
    "execution": {
     "iopub.execute_input": "2025-05-08T20:20:43.612348Z",
     "iopub.status.busy": "2025-05-08T20:20:43.612027Z",
     "iopub.status.idle": "2025-05-08T20:20:43.625172Z",
     "shell.execute_reply": "2025-05-08T20:20:43.624098Z"
    },
    "papermill": {
     "duration": 0.019773,
     "end_time": "2025-05-08T20:20:43.626831",
     "exception": false,
     "start_time": "2025-05-08T20:20:43.607058",
     "status": "completed"
    },
    "tags": []
   },
   "outputs": [
    {
     "name": "stdout",
     "output_type": "stream",
     "text": [
      "Your submission was successfully saved!\n"
     ]
    }
   ],
   "source": [
    "# package for output\n",
    "output = pd.DataFrame({'PassengerId': test_data.PassengerId,\n",
    "                      'Survived': predictions})\n",
    "\n",
    "# send to csv\n",
    "output.to_csv('submission.csv', index=False)\n",
    "print(\"Your submission was successfully saved!\")"
   ]
  }
 ],
 "metadata": {
  "kaggle": {
   "accelerator": "none",
   "dataSources": [
    {
     "databundleVersionId": 26502,
     "sourceId": 3136,
     "sourceType": "competition"
    }
   ],
   "dockerImageVersionId": 31012,
   "isGpuEnabled": false,
   "isInternetEnabled": true,
   "language": "python",
   "sourceType": "notebook"
  },
  "kernelspec": {
   "display_name": "Python 3",
   "language": "python",
   "name": "python3"
  },
  "language_info": {
   "codemirror_mode": {
    "name": "ipython",
    "version": 3
   },
   "file_extension": ".py",
   "mimetype": "text/x-python",
   "name": "python",
   "nbconvert_exporter": "python",
   "pygments_lexer": "ipython3",
   "version": "3.11.11"
  },
  "papermill": {
   "default_parameters": {},
   "duration": 41.315761,
   "end_time": "2025-05-08T20:20:44.352718",
   "environment_variables": {},
   "exception": null,
   "input_path": "__notebook__.ipynb",
   "output_path": "__notebook__.ipynb",
   "parameters": {},
   "start_time": "2025-05-08T20:20:03.036957",
   "version": "2.6.0"
  }
 },
 "nbformat": 4,
 "nbformat_minor": 5
}
